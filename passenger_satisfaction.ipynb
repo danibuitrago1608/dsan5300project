{
 "cells": [
  {
   "cell_type": "code",
   "execution_count": 2,
   "metadata": {},
   "outputs": [],
   "source": [
    "import pandas as pd\n",
    "import numpy as np\n",
    "import matplotlib.pyplot as plt\n",
    "import seaborn as sns\n",
    "from sklearn.metrics import confusion_matrix, ConfusionMatrixDisplay"
   ]
  },
  {
   "cell_type": "code",
   "execution_count": 3,
   "metadata": {},
   "outputs": [],
   "source": [
    "train = pd.read_csv(\"train.csv\")\n",
    "del train[train.columns[0]]\n",
    "\n",
    "\n",
    "test = pd.read_csv(\"test.csv\")\n",
    "del test[test.columns[0]]\n",
    "\n",
    "df = pd.concat([train,test])\n",
    "\n",
    "df= df.head(20000)"
   ]
  },
  {
   "cell_type": "code",
   "execution_count": 4,
   "metadata": {},
   "outputs": [],
   "source": [
    "#df.to_csv('out.csv', index=False) \n",
    "\n",
    "#print(df.dtypes)\n",
    "#print(df.columns)\n",
    "#df[\"Gender\"].unique()\n",
    "#df[\"Customer Type\"].unique()\n",
    "#df[\"Type of Travel\"].unique()\n",
    "#df[\"Class\"].unique()\n",
    "#df[\"satisfaction\"].unique()\n",
    "\n",
    "\n",
    "\n",
    "df.loc[df['Gender'] == \"Male\", 'Gender'] = 0\n",
    "df.loc[df['Gender'] == \"Female\", 'Gender'] = 1\n",
    "\n",
    "df.loc[df['Customer Type'] == \"disloyal Customer\", 'Customer Type'] = 0\n",
    "df.loc[df['Customer Type'] == \"Loyal Customer\", 'Customer Type'] = 1\n",
    "\n",
    "df.loc[df['Type of Travel'] == \"Business travel\", 'Type of Travel'] = 0\n",
    "df.loc[df['Type of Travel'] == \"Personal Travel\", 'Type of Travel'] = 1\n",
    "\n",
    "df.loc[df['Class'] == \"Eco\", 'Class'] = 0\n",
    "df.loc[df['Class'] == \"Eco Plus\", 'Class'] = 1\n",
    "df.loc[df['Class'] == \"Business\", 'Class'] = 2\n",
    "\n",
    "#df.loc[df['satisfaction'] == \"neutral or dissatisfied\", 'satisfaction'] = 0\n",
    "#df.loc[df['satisfaction'] == \"satisfied\", 'satisfaction'] = 1\n",
    "#df[\"satisfaction\"]"
   ]
  },
  {
   "cell_type": "code",
   "execution_count": 5,
   "metadata": {},
   "outputs": [],
   "source": [
    "df = df.dropna()"
   ]
  },
  {
   "cell_type": "code",
   "execution_count": 6,
   "metadata": {},
   "outputs": [],
   "source": [
    "from sklearn.model_selection import train_test_split\n",
    "\n",
    "X = df.drop([\"satisfaction\"], axis=1)\n",
    "Y = df[\"satisfaction\"]\n",
    "\n",
    "x_train, x_test, y_train, y_test = train_test_split(X, Y, test_size=0.2)"
   ]
  },
  {
   "cell_type": "code",
   "execution_count": 7,
   "metadata": {},
   "outputs": [
    {
     "name": "stdout",
     "output_type": "stream",
     "text": [
      "(15959, 23)\n",
      "(3990, 23)\n",
      "(15959,)\n",
      "(3990,)\n"
     ]
    },
    {
     "data": {
      "text/plain": [
       "satisfaction\n",
       "neutral or dissatisfied    11213\n",
       "satisfied                   8736\n",
       "Name: count, dtype: int64"
      ]
     },
     "execution_count": 7,
     "metadata": {},
     "output_type": "execute_result"
    }
   ],
   "source": [
    "print(x_train.shape)\n",
    "print(x_test.shape)\n",
    "print(y_train.shape)\n",
    "print(y_test.shape)\n",
    "\n",
    "Y.value_counts()"
   ]
  },
  {
   "cell_type": "code",
   "execution_count": 8,
   "metadata": {},
   "outputs": [],
   "source": [
    "from sklearn.svm import SVC\n",
    "from sklearn.metrics import classification_report, confusion_matrix\n",
    "from sklearn.pipeline import make_pipeline\n",
    "from sklearn.preprocessing import StandardScaler"
   ]
  },
  {
   "cell_type": "markdown",
   "metadata": {},
   "source": [
    "Linear"
   ]
  },
  {
   "cell_type": "code",
   "execution_count": 9,
   "metadata": {},
   "outputs": [],
   "source": [
    "clf = make_pipeline(StandardScaler(), SVC(C=0.5, kernel=\"linear\"))\n",
    "model =clf.fit(x_train, y_train)\n",
    "y_pred = model.predict(x_test)"
   ]
  },
  {
   "cell_type": "code",
   "execution_count": 10,
   "metadata": {},
   "outputs": [
    {
     "name": "stdout",
     "output_type": "stream",
     "text": [
      "[[2048  199]\n",
      " [ 309 1434]]\n",
      "{'neutral or dissatisfied': {'precision': 0.8689011455239711, 'recall': 0.9114374721851357, 'f1-score': 0.8896611642050389, 'support': 2247}, 'satisfied': {'precision': 0.8781383955909369, 'recall': 0.8227194492254734, 'f1-score': 0.8495260663507108, 'support': 1743}, 'accuracy': 0.8726817042606516, 'macro avg': {'precision': 0.873519770557454, 'recall': 0.8670784607053046, 'f1-score': 0.8695936152778749, 'support': 3990}, 'weighted avg': {'precision': 0.8729363652900667, 'recall': 0.8726817042606516, 'f1-score': 0.8721284635634113, 'support': 3990}}\n"
     ]
    }
   ],
   "source": [
    "cmatrix = confusion_matrix(y_test, y_pred) \n",
    "creport = classification_report(y_test, y_pred, zero_division= 0, output_dict = True)\n",
    "\n",
    "print(cmatrix)\n",
    "print(creport)"
   ]
  },
  {
   "cell_type": "code",
   "execution_count": 11,
   "metadata": {},
   "outputs": [
    {
     "data": {
      "text/html": [
       "<div>\n",
       "<style scoped>\n",
       "    .dataframe tbody tr th:only-of-type {\n",
       "        vertical-align: middle;\n",
       "    }\n",
       "\n",
       "    .dataframe tbody tr th {\n",
       "        vertical-align: top;\n",
       "    }\n",
       "\n",
       "    .dataframe thead th {\n",
       "        text-align: right;\n",
       "    }\n",
       "</style>\n",
       "<table border=\"1\" class=\"dataframe\">\n",
       "  <thead>\n",
       "    <tr style=\"text-align: right;\">\n",
       "      <th></th>\n",
       "      <th>precision</th>\n",
       "      <th>recall</th>\n",
       "      <th>f1-score</th>\n",
       "      <th>support</th>\n",
       "    </tr>\n",
       "  </thead>\n",
       "  <tbody>\n",
       "    <tr>\n",
       "      <th>neutral or dissatisfied</th>\n",
       "      <td>0.868901</td>\n",
       "      <td>0.911437</td>\n",
       "      <td>0.889661</td>\n",
       "      <td>2247.000000</td>\n",
       "    </tr>\n",
       "    <tr>\n",
       "      <th>satisfied</th>\n",
       "      <td>0.878138</td>\n",
       "      <td>0.822719</td>\n",
       "      <td>0.849526</td>\n",
       "      <td>1743.000000</td>\n",
       "    </tr>\n",
       "    <tr>\n",
       "      <th>accuracy</th>\n",
       "      <td>0.872682</td>\n",
       "      <td>0.872682</td>\n",
       "      <td>0.872682</td>\n",
       "      <td>0.872682</td>\n",
       "    </tr>\n",
       "    <tr>\n",
       "      <th>macro avg</th>\n",
       "      <td>0.873520</td>\n",
       "      <td>0.867078</td>\n",
       "      <td>0.869594</td>\n",
       "      <td>3990.000000</td>\n",
       "    </tr>\n",
       "    <tr>\n",
       "      <th>weighted avg</th>\n",
       "      <td>0.872936</td>\n",
       "      <td>0.872682</td>\n",
       "      <td>0.872128</td>\n",
       "      <td>3990.000000</td>\n",
       "    </tr>\n",
       "  </tbody>\n",
       "</table>\n",
       "</div>"
      ],
      "text/plain": [
       "                         precision    recall  f1-score      support\n",
       "neutral or dissatisfied   0.868901  0.911437  0.889661  2247.000000\n",
       "satisfied                 0.878138  0.822719  0.849526  1743.000000\n",
       "accuracy                  0.872682  0.872682  0.872682     0.872682\n",
       "macro avg                 0.873520  0.867078  0.869594  3990.000000\n",
       "weighted avg              0.872936  0.872682  0.872128  3990.000000"
      ]
     },
     "execution_count": 11,
     "metadata": {},
     "output_type": "execute_result"
    }
   ],
   "source": [
    "class_report = pd.DataFrame(creport).transpose()\n",
    "class_report"
   ]
  },
  {
   "cell_type": "code",
   "execution_count": 12,
   "metadata": {},
   "outputs": [
    {
     "data": {
      "image/png": "[encoded data removed]",
      "text/plain": [
       "<Figure size 640x480 with 2 Axes>"
      ]
     },
     "metadata": {},
     "output_type": "display_data"
    }
   ],
   "source": [
    "disp = ConfusionMatrixDisplay(confusion_matrix=cmatrix,display_labels=clf.classes_)\n",
    "disp.plot()\n",
    "plt.show()"
   ]
  },
  {
   "cell_type": "markdown",
   "metadata": {},
   "source": [
    "Polynomial"
   ]
  },
  {
   "cell_type": "code",
   "execution_count": 13,
   "metadata": {},
   "outputs": [],
   "source": [
    "clf = SVC(C=0.5, kernel=\"poly\", degree= 2)\n",
    "model =clf.fit(x_train, y_train)\n",
    "\n",
    "y_pred = model.predict(x_test)"
   ]
  },
  {
   "cell_type": "code",
   "execution_count": 14,
   "metadata": {},
   "outputs": [
    {
     "name": "stdout",
     "output_type": "stream",
     "text": [
      "[[2155   92]\n",
      " [1463  280]]\n",
      "{'neutral or dissatisfied': {'precision': 0.595632946379215, 'recall': 0.9590565198041834, 'f1-score': 0.7348678601875535, 'support': 2247}, 'satisfied': {'precision': 0.7526881720430108, 'recall': 0.1606425702811245, 'f1-score': 0.2647754137115839, 'support': 1743}, 'accuracy': 0.6102756892230576, 'macro avg': {'precision': 0.6741605592111128, 'recall': 0.5598495450426539, 'f1-score': 0.4998216369495687, 'support': 3990}, 'weighted avg': {'precision': 0.6642412818007679, 'recall': 0.6102756892230576, 'f1-score': 0.5295116862006826, 'support': 3990}}\n"
     ]
    }
   ],
   "source": [
    "cmatrix = confusion_matrix(y_test, y_pred) \n",
    "creport = classification_report(y_test, y_pred, zero_division= 0, output_dict = True)\n",
    "\n",
    "print(cmatrix)\n",
    "print(creport) "
   ]
  },
  {
   "cell_type": "code",
   "execution_count": 15,
   "metadata": {},
   "outputs": [
    {
     "data": {
      "text/html": [
       "<div>\n",
       "<style scoped>\n",
       "    .dataframe tbody tr th:only-of-type {\n",
       "        vertical-align: middle;\n",
       "    }\n",
       "\n",
       "    .dataframe tbody tr th {\n",
       "        vertical-align: top;\n",
       "    }\n",
       "\n",
       "    .dataframe thead th {\n",
       "        text-align: right;\n",
       "    }\n",
       "</style>\n",
       "<table border=\"1\" class=\"dataframe\">\n",
       "  <thead>\n",
       "    <tr style=\"text-align: right;\">\n",
       "      <th></th>\n",
       "      <th>precision</th>\n",
       "      <th>recall</th>\n",
       "      <th>f1-score</th>\n",
       "      <th>support</th>\n",
       "    </tr>\n",
       "  </thead>\n",
       "  <tbody>\n",
       "    <tr>\n",
       "      <th>neutral or dissatisfied</th>\n",
       "      <td>0.595633</td>\n",
       "      <td>0.959057</td>\n",
       "      <td>0.734868</td>\n",
       "      <td>2247.000000</td>\n",
       "    </tr>\n",
       "    <tr>\n",
       "      <th>satisfied</th>\n",
       "      <td>0.752688</td>\n",
       "      <td>0.160643</td>\n",
       "      <td>0.264775</td>\n",
       "      <td>1743.000000</td>\n",
       "    </tr>\n",
       "    <tr>\n",
       "      <th>accuracy</th>\n",
       "      <td>0.610276</td>\n",
       "      <td>0.610276</td>\n",
       "      <td>0.610276</td>\n",
       "      <td>0.610276</td>\n",
       "    </tr>\n",
       "    <tr>\n",
       "      <th>macro avg</th>\n",
       "      <td>0.674161</td>\n",
       "      <td>0.559850</td>\n",
       "      <td>0.499822</td>\n",
       "      <td>3990.000000</td>\n",
       "    </tr>\n",
       "    <tr>\n",
       "      <th>weighted avg</th>\n",
       "      <td>0.664241</td>\n",
       "      <td>0.610276</td>\n",
       "      <td>0.529512</td>\n",
       "      <td>3990.000000</td>\n",
       "    </tr>\n",
       "  </tbody>\n",
       "</table>\n",
       "</div>"
      ],
      "text/plain": [
       "                         precision    recall  f1-score      support\n",
       "neutral or dissatisfied   0.595633  0.959057  0.734868  2247.000000\n",
       "satisfied                 0.752688  0.160643  0.264775  1743.000000\n",
       "accuracy                  0.610276  0.610276  0.610276     0.610276\n",
       "macro avg                 0.674161  0.559850  0.499822  3990.000000\n",
       "weighted avg              0.664241  0.610276  0.529512  3990.000000"
      ]
     },
     "execution_count": 15,
     "metadata": {},
     "output_type": "execute_result"
    }
   ],
   "source": [
    "class_report = pd.DataFrame(creport).transpose()\n",
    "class_report"
   ]
  },
  {
   "cell_type": "code",
   "execution_count": 16,
   "metadata": {},
   "outputs": [
    {
     "data": {
      "image/png": "[encoded data removed]",
      "text/plain": [
       "<Figure size 640x480 with 2 Axes>"
      ]
     },
     "metadata": {},
     "output_type": "display_data"
    }
   ],
   "source": [
    "disp = ConfusionMatrixDisplay(confusion_matrix=cmatrix,display_labels=clf.classes_)\n",
    "disp.plot()\n",
    "plt.show()"
   ]
  },
  {
   "cell_type": "markdown",
   "metadata": {},
   "source": [
    "RBF"
   ]
  },
  {
   "cell_type": "code",
   "execution_count": 17,
   "metadata": {},
   "outputs": [],
   "source": [
    "clf = SVC(C=0.5, kernel=\"rbf\")\n",
    "model =clf.fit(x_train, y_train)\n",
    "\n",
    "y_pred = model.predict(x_test)"
   ]
  },
  {
   "cell_type": "code",
   "execution_count": 18,
   "metadata": {},
   "outputs": [
    {
     "name": "stdout",
     "output_type": "stream",
     "text": [
      "[[2197   50]\n",
      " [1536  207]]\n",
      "{'neutral or dissatisfied': {'precision': 0.5885346905973747, 'recall': 0.9777481085892301, 'f1-score': 0.7347826086956522, 'support': 2247}, 'satisfied': {'precision': 0.8054474708171206, 'recall': 0.11876075731497418, 'f1-score': 0.20700000000000002, 'support': 1743}, 'accuracy': 0.6025062656641604, 'macro avg': {'precision': 0.6969910807072477, 'recall': 0.5482544329521022, 'f1-score': 0.4708913043478261, 'support': 3990}, 'weighted avg': {'precision': 0.6832913261670532, 'recall': 0.6025062656641604, 'f1-score': 0.504224942791762, 'support': 3990}}\n"
     ]
    }
   ],
   "source": [
    "cmatrix = confusion_matrix(y_test, y_pred) \n",
    "creport = classification_report(y_test, y_pred, zero_division= 0, output_dict = True)\n",
    "\n",
    "print(cmatrix)\n",
    "print(creport)  "
   ]
  },
  {
   "cell_type": "code",
   "execution_count": 19,
   "metadata": {},
   "outputs": [
    {
     "data": {
      "text/html": [
       "<div>\n",
       "<style scoped>\n",
       "    .dataframe tbody tr th:only-of-type {\n",
       "        vertical-align: middle;\n",
       "    }\n",
       "\n",
       "    .dataframe tbody tr th {\n",
       "        vertical-align: top;\n",
       "    }\n",
       "\n",
       "    .dataframe thead th {\n",
       "        text-align: right;\n",
       "    }\n",
       "</style>\n",
       "<table border=\"1\" class=\"dataframe\">\n",
       "  <thead>\n",
       "    <tr style=\"text-align: right;\">\n",
       "      <th></th>\n",
       "      <th>precision</th>\n",
       "      <th>recall</th>\n",
       "      <th>f1-score</th>\n",
       "      <th>support</th>\n",
       "    </tr>\n",
       "  </thead>\n",
       "  <tbody>\n",
       "    <tr>\n",
       "      <th>neutral or dissatisfied</th>\n",
       "      <td>0.588535</td>\n",
       "      <td>0.977748</td>\n",
       "      <td>0.734783</td>\n",
       "      <td>2247.000000</td>\n",
       "    </tr>\n",
       "    <tr>\n",
       "      <th>satisfied</th>\n",
       "      <td>0.805447</td>\n",
       "      <td>0.118761</td>\n",
       "      <td>0.207000</td>\n",
       "      <td>1743.000000</td>\n",
       "    </tr>\n",
       "    <tr>\n",
       "      <th>accuracy</th>\n",
       "      <td>0.602506</td>\n",
       "      <td>0.602506</td>\n",
       "      <td>0.602506</td>\n",
       "      <td>0.602506</td>\n",
       "    </tr>\n",
       "    <tr>\n",
       "      <th>macro avg</th>\n",
       "      <td>0.696991</td>\n",
       "      <td>0.548254</td>\n",
       "      <td>0.470891</td>\n",
       "      <td>3990.000000</td>\n",
       "    </tr>\n",
       "    <tr>\n",
       "      <th>weighted avg</th>\n",
       "      <td>0.683291</td>\n",
       "      <td>0.602506</td>\n",
       "      <td>0.504225</td>\n",
       "      <td>3990.000000</td>\n",
       "    </tr>\n",
       "  </tbody>\n",
       "</table>\n",
       "</div>"
      ],
      "text/plain": [
       "                         precision    recall  f1-score      support\n",
       "neutral or dissatisfied   0.588535  0.977748  0.734783  2247.000000\n",
       "satisfied                 0.805447  0.118761  0.207000  1743.000000\n",
       "accuracy                  0.602506  0.602506  0.602506     0.602506\n",
       "macro avg                 0.696991  0.548254  0.470891  3990.000000\n",
       "weighted avg              0.683291  0.602506  0.504225  3990.000000"
      ]
     },
     "execution_count": 19,
     "metadata": {},
     "output_type": "execute_result"
    }
   ],
   "source": [
    "class_report = pd.DataFrame(creport).transpose()\n",
    "class_report"
   ]
  },
  {
   "cell_type": "code",
   "execution_count": 20,
   "metadata": {},
   "outputs": [
    {
     "data": {
      "image/png": "[encoded data removed]",
      "text/plain": [
       "<Figure size 640x480 with 2 Axes>"
      ]
     },
     "metadata": {},
     "output_type": "display_data"
    }
   ],
   "source": [
    "disp = ConfusionMatrixDisplay(confusion_matrix=cmatrix,display_labels=clf.classes_)\n",
    "disp.plot()\n",
    "plt.show()"
   ]
  },
  {
   "cell_type": "markdown",
   "metadata": {},
   "source": [
    "sigmoid"
   ]
  },
  {
   "cell_type": "code",
   "execution_count": 21,
   "metadata": {},
   "outputs": [],
   "source": [
    "clf = SVC(C=0.5, kernel=\"sigmoid\")\n",
    "model =clf.fit(x_train, y_train)\n",
    "\n",
    "y_pred = model.predict(x_test)"
   ]
  },
  {
   "cell_type": "code",
   "execution_count": 22,
   "metadata": {},
   "outputs": [
    {
     "name": "stdout",
     "output_type": "stream",
     "text": [
      "[[1247 1000]\n",
      " [ 971  772]]\n",
      "{'neutral or dissatisfied': {'precision': 0.5622182146077548, 'recall': 0.5549621717846017, 'f1-score': 0.5585666293393058, 'support': 2247}, 'satisfied': {'precision': 0.435665914221219, 'recall': 0.4429145152036718, 'f1-score': 0.43926031294452345, 'support': 1743}, 'accuracy': 0.5060150375939849, 'macro avg': {'precision': 0.49894206441448685, 'recall': 0.4989383434941368, 'f1-score': 0.49891347114191464, 'support': 3990}, 'weighted avg': {'precision': 0.5069348412810049, 'recall': 0.5060150375939849, 'f1-score': 0.5064486069142167, 'support': 3990}}\n"
     ]
    }
   ],
   "source": [
    "cmatrix = confusion_matrix(y_test, y_pred) \n",
    "creport = classification_report(y_test, y_pred, zero_division= 0, output_dict = True)\n",
    "\n",
    "print(cmatrix)\n",
    "print(creport)  "
   ]
  },
  {
   "cell_type": "code",
   "execution_count": 23,
   "metadata": {},
   "outputs": [
    {
     "data": {
      "text/html": [
       "<div>\n",
       "<style scoped>\n",
       "    .dataframe tbody tr th:only-of-type {\n",
       "        vertical-align: middle;\n",
       "    }\n",
       "\n",
       "    .dataframe tbody tr th {\n",
       "        vertical-align: top;\n",
       "    }\n",
       "\n",
       "    .dataframe thead th {\n",
       "        text-align: right;\n",
       "    }\n",
       "</style>\n",
       "<table border=\"1\" class=\"dataframe\">\n",
       "  <thead>\n",
       "    <tr style=\"text-align: right;\">\n",
       "      <th></th>\n",
       "      <th>precision</th>\n",
       "      <th>recall</th>\n",
       "      <th>f1-score</th>\n",
       "      <th>support</th>\n",
       "    </tr>\n",
       "  </thead>\n",
       "  <tbody>\n",
       "    <tr>\n",
       "      <th>neutral or dissatisfied</th>\n",
       "      <td>0.562218</td>\n",
       "      <td>0.554962</td>\n",
       "      <td>0.558567</td>\n",
       "      <td>2247.000000</td>\n",
       "    </tr>\n",
       "    <tr>\n",
       "      <th>satisfied</th>\n",
       "      <td>0.435666</td>\n",
       "      <td>0.442915</td>\n",
       "      <td>0.439260</td>\n",
       "      <td>1743.000000</td>\n",
       "    </tr>\n",
       "    <tr>\n",
       "      <th>accuracy</th>\n",
       "      <td>0.506015</td>\n",
       "      <td>0.506015</td>\n",
       "      <td>0.506015</td>\n",
       "      <td>0.506015</td>\n",
       "    </tr>\n",
       "    <tr>\n",
       "      <th>macro avg</th>\n",
       "      <td>0.498942</td>\n",
       "      <td>0.498938</td>\n",
       "      <td>0.498913</td>\n",
       "      <td>3990.000000</td>\n",
       "    </tr>\n",
       "    <tr>\n",
       "      <th>weighted avg</th>\n",
       "      <td>0.506935</td>\n",
       "      <td>0.506015</td>\n",
       "      <td>0.506449</td>\n",
       "      <td>3990.000000</td>\n",
       "    </tr>\n",
       "  </tbody>\n",
       "</table>\n",
       "</div>"
      ],
      "text/plain": [
       "                         precision    recall  f1-score      support\n",
       "neutral or dissatisfied   0.562218  0.554962  0.558567  2247.000000\n",
       "satisfied                 0.435666  0.442915  0.439260  1743.000000\n",
       "accuracy                  0.506015  0.506015  0.506015     0.506015\n",
       "macro avg                 0.498942  0.498938  0.498913  3990.000000\n",
       "weighted avg              0.506935  0.506015  0.506449  3990.000000"
      ]
     },
     "execution_count": 23,
     "metadata": {},
     "output_type": "execute_result"
    }
   ],
   "source": [
    "class_report = pd.DataFrame(creport).transpose()\n",
    "class_report"
   ]
  },
  {
   "cell_type": "code",
   "execution_count": 24,
   "metadata": {},
   "outputs": [
    {
     "data": {
      "image/png": "[encoded data removed]",
      "text/plain": [
       "<Figure size 640x480 with 2 Axes>"
      ]
     },
     "metadata": {},
     "output_type": "display_data"
    }
   ],
   "source": [
    "disp = ConfusionMatrixDisplay(confusion_matrix=cmatrix,display_labels=clf.classes_)\n",
    "disp.plot()\n",
    "plt.show()"
   ]
  }
 ],
 "metadata": {
  "kernelspec": {
   "display_name": "env3",
   "language": "python",
   "name": "python3"
  },
  "language_info": {
   "codemirror_mode": {
    "name": "ipython",
    "version": 3
   },
   "file_extension": ".py",
   "mimetype": "text/x-python",
   "name": "python",
   "nbconvert_exporter": "python",
   "pygments_lexer": "ipython3",
   "version": "3.11.5"
  }
 },
 "nbformat": 4,
 "nbformat_minor": 2
}
